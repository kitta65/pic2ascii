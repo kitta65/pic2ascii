version https://git-lfs.github.com/spec/v1
oid sha256:02c580c9baa180822286a10a0a7d59e3ba622a2aa913fafc2467ab6fa3d37ada
size 760
